{
  "nbformat": 4,
  "nbformat_minor": 0,
  "metadata": {
    "colab": {
      "name": "TugasAI1.ipynb",
      "provenance": [],
      "collapsed_sections": []
    },
    "kernelspec": {
      "name": "python3",
      "display_name": "Python 3"
    }
  },
  "cells": [
    {
      "cell_type": "markdown",
      "metadata": {
        "id": "C0ZKDhlMhlSt",
        "colab_type": "text"
      },
      "source": [
        "# Simulated Anealing\n",
        "\n",
        "---\n",
        "\n",
        "\n",
        "> Berikut akan diberikan pemecahan masalah terkait simulated Anealing\n",
        "\n",
        "\n"
      ]
    },
    {
      "cell_type": "markdown",
      "metadata": {
        "id": "0njON6dQrCVv",
        "colab_type": "text"
      },
      "source": [
        "Mengambil nilai fungsi dari hasil random"
      ]
    },
    {
      "cell_type": "code",
      "metadata": {
        "id": "sJLfv3pfrHr9",
        "colab_type": "code",
        "colab": {}
      },
      "source": [
        "import random\n",
        "\n",
        "def nilaiRand(down,up):\n",
        "            x1 = random.uniform(down,up)\n",
        "            x2 = random.uniform(down,up)\n",
        "            new_state = [x1,x2]\n",
        "            return new_state"
      ],
      "execution_count": null,
      "outputs": []
    },
    {
      "cell_type": "code",
      "metadata": {
        "id": "ByCYWTODpUSS",
        "colab_type": "code",
        "colab": {}
      },
      "source": [
        "#inisialisasi\n",
        "\n",
        "down = -10 #batas bawah\n",
        "up = 10 #batas atas\n",
        "temp = 10000 # temperature awal\n",
        "final_temp = 0.0001 # temperatur akhir\n",
        "alpha = 0.9999 #nilai dari alpha\n",
        "init=nilaiRand(down,up)"
      ],
      "execution_count": null,
      "outputs": []
    },
    {
      "cell_type": "markdown",
      "metadata": {
        "id": "TujC_diWpX6l",
        "colab_type": "text"
      },
      "source": [
        "Return Nilai dari function fungsi"
      ]
    },
    {
      "cell_type": "code",
      "metadata": {
        "id": "pmGo62Q_hepE",
        "colab_type": "code",
        "colab": {}
      },
      "source": [
        "import numpy as matematika\n",
        "\n",
        "def fungsi(x1,x2):\n",
        "    nilai = -((matematika.sin(x1)*matematika.cos(x2))+((4/5)*matematika.exp(1-matematika.sqrt((x1**2)+(x2**2)))))\n",
        "    return nilai\n"
      ],
      "execution_count": null,
      "outputs": []
    },
    {
      "cell_type": "code",
      "metadata": {
        "id": "BHn9o2BvT8YH",
        "colab_type": "code",
        "colab": {
          "base_uri": "https://localhost:8080/",
          "height": 35
        },
        "outputId": "74d14802-a36a-4b4e-98ff-6f4baf0e8d0f"
      },
      "source": [
        "fungsi(0,0)"
      ],
      "execution_count": null,
      "outputs": [
        {
          "output_type": "execute_result",
          "data": {
            "text/plain": [
              "-2.1746254627672363"
            ]
          },
          "metadata": {
            "tags": []
          },
          "execution_count": 4
        }
      ]
    },
    {
      "cell_type": "markdown",
      "metadata": {
        "id": "21aMku32rnfI",
        "colab_type": "text"
      },
      "source": [
        "mengambil nilai cost dari fungsi"
      ]
    },
    {
      "cell_type": "code",
      "metadata": {
        "id": "ERGdbjcSrqTt",
        "colab_type": "code",
        "colab": {}
      },
      "source": [
        "def cost(x):\n",
        "    return fungsi(x[0],x[1])\n"
      ],
      "execution_count": null,
      "outputs": []
    },
    {
      "cell_type": "markdown",
      "metadata": {
        "id": "6LKnlP3fusTk",
        "colab_type": "text"
      },
      "source": [
        "annealing schedule"
      ]
    },
    {
      "cell_type": "code",
      "metadata": {
        "id": "wyEZ8zxjuuP9",
        "colab_type": "code",
        "colab": {}
      },
      "source": [
        "def annealing_schedule(temp,alpha):\n",
        "    return temp*alpha;"
      ],
      "execution_count": null,
      "outputs": []
    },
    {
      "cell_type": "markdown",
      "metadata": {
        "id": "-cwkqipiu0V1",
        "colab_type": "text"
      },
      "source": [
        "Probability Acceptance"
      ]
    },
    {
      "cell_type": "code",
      "metadata": {
        "id": "CVpKKC_Cu458",
        "colab_type": "code",
        "colab": {}
      },
      "source": [
        "def probabilty_acceptance(new_cost, current_cost, temp):\n",
        "    d_e= new_cost - current_cost\n",
        "    a= -((d_e)/temp)\n",
        "    return matematika.exp(a)"
      ],
      "execution_count": null,
      "outputs": []
    },
    {
      "cell_type": "markdown",
      "metadata": {
        "id": "HLhEcyGjvO3c",
        "colab_type": "text"
      },
      "source": [
        "Simulated Annealing"
      ]
    },
    {
      "cell_type": "code",
      "metadata": {
        "id": "yNdUkgoovQqt",
        "colab_type": "code",
        "colab": {}
      },
      "source": [
        "def simulatedAnnealing(init,temp,final_temp,alpha):\n",
        "    solutions = {}\n",
        "    \n",
        "    current_state = init\n",
        "    current_cost = cost(init)\n",
        "    \n",
        "    #initisl best solution\n",
        "    best_solution = init\n",
        "    best_cost = current_cost\n",
        "    \n",
        "    j = 1\n",
        "    while(temp>final_temp):\n",
        "        for i in range(100):\n",
        "           new_state=nilaiRand(-10,10)\n",
        "           new_cost=cost(new_state)\n",
        "            \n",
        "        if(new_cost<current_cost):\n",
        "            current_state = new_state\n",
        "            current_cost = new_cost\n",
        "            if(current_cost<best_cost):\n",
        "                best_solution=current_state\n",
        "                best_cost=current_cost\n",
        "                \n",
        "        else:\n",
        "            prob = probabilty_acceptance(new_cost, current_cost,temp)\n",
        "            if(prob> random.uniform(0,1)):\n",
        "                current_state = new_state\n",
        "                current_cost = new_cost\n",
        "        solutions[j] = [temp,best_solution, best_cost]\n",
        "        j += 1\n",
        "        temp = annealing_schedule(temp,alpha)\n",
        "    return solutions"
      ],
      "execution_count": null,
      "outputs": []
    },
    {
      "cell_type": "markdown",
      "metadata": {
        "id": "P_NeNInkvabN",
        "colab_type": "text"
      },
      "source": [
        "Hasil Pencarian Solusi"
      ]
    },
    {
      "cell_type": "code",
      "metadata": {
        "id": "N7aGacdEvcKU",
        "colab_type": "code",
        "colab": {}
      },
      "source": [
        "import matplotlib.pyplot as p\n",
        "\n",
        "def solusi(temp,final_temp,alpha):\n",
        "  init=nilaiRand(down,up)\n",
        "  cek=[init,temp,final_temp,alpha]\n",
        "  solusion = simulatedAnnealing(init,temp,final_temp,alpha)\n",
        "  \n",
        "  print(\"Nilai minimum :\", solusion[list(solusion)[-1]][-1])\n",
        "  print(\"nilai X1 dan X2 :\",solusion[list(solusion)[-1]][1])\n",
        "\n",
        "  akurat = matematika.abs(fungsi(0,0)-solusion[list(solusion)[-1]][-1])\n",
        "  print(\"selisih dengan nilai minimum eksak : \", akurat)\n",
        "  \n",
        "  "
      ],
      "execution_count": null,
      "outputs": []
    },
    {
      "cell_type": "markdown",
      "metadata": {
        "id": "BI0nOYCS3dPw",
        "colab_type": "text"
      },
      "source": [
        "solusi terakhir"
      ]
    },
    {
      "cell_type": "code",
      "metadata": {
        "id": "KZag4cIr1AbS",
        "colab_type": "code",
        "colab": {
          "base_uri": "https://localhost:8080/",
          "height": 72
        },
        "outputId": "492e39ca-6bb5-4a81-9bb6-ba929bf41cfa"
      },
      "source": [
        "solusi(temp,final_temp,alpha)\n"
      ],
      "execution_count": null,
      "outputs": [
        {
          "output_type": "stream",
          "text": [
            "Nilai minimum : -2.1322168112993096\n",
            "nilai X1 dan X2 : [0.009104029563767213, 0.022175997633969047]\n",
            "selisih dengan nilai minimum eksak :  0.04240865146792672\n"
          ],
          "name": "stdout"
        }
      ]
    },
    {
      "cell_type": "code",
      "metadata": {
        "id": "hkB_jZHc3ek5",
        "colab_type": "code",
        "colab": {}
      },
      "source": [
        ""
      ],
      "execution_count": null,
      "outputs": []
    }
  ]
}